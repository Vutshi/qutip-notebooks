{
 "cells": [
  {
   "cell_type": "code",
   "execution_count": 6,
   "metadata": {
    "collapsed": true
   },
   "outputs": [],
   "source": [
    "import numpy as np\n",
    "from scipy import (zeros, array, arange, exp, real, conj, pi,\n",
    "                   copy, sqrt, meshgrid, size, polyval, fliplr, conjugate,\n",
    "                   cos, sin)\n",
    "import scipy.sparse as sp\n",
    "import scipy.fftpack as ft\n",
    "import scipy.linalg as la\n",
    "from scipy.special import genlaguerre\n",
    "from scipy.special import binom\n",
    "from scipy.special import sph_harm\n",
    "\n",
    "from qutip.qobj import Qobj, isket, isoper\n",
    "from qutip.states import ket2dm\n",
    "from qutip.parallel import parfor\n",
    "from qutip.utilities import clebsch\n",
    "from scipy.misc import factorial\n",
    "\n",
    "from qutip import *"
   ]
  },
  {
   "cell_type": "code",
   "execution_count": 7,
   "metadata": {
    "collapsed": false
   },
   "outputs": [],
   "source": [
    "def _wigner_clenshaw(rho, xvec, yvec, g=2**0.5):\n",
    "    \"\"\"\n",
    "    Using Clenshaw summation - numerically stable and efficient\n",
    "    iterative algorithm to evaluate polynomial series.\n",
    "    \n",
    "    The Wigner function is calculated as\n",
    "    :math:`W = e^(-0.5*x^2)/pi * \\sum_{L} c_L (2x)^L / sqrt(L!)` where \n",
    "    :math:`c_L = \\sum_n \\\\rho_{n,L+n} LL_n^L` where\n",
    "    :math:`LL_n^L = (-1)^n sqrt(L!n!/(L+n)!) LaguerreL[n,L,x]`\n",
    "    \n",
    "    \"\"\"\n",
    "\n",
    "    M = np.prod(rho.shape[0])\n",
    "    X,Y = np.meshgrid(xvec, yvec)\n",
    "    #A = 0.5 * g * (X + 1.0j * Y)\n",
    "    A2 = g * (X + 1.0j * Y) #this is A2 = 2*A\n",
    "    \n",
    "    rho = rho.full() * (2*np.ones((M,M)) - np.diag(np.ones(M)))\n",
    "    \n",
    "    B = np.abs(A2)\n",
    "    B *= B\n",
    "    \n",
    "    #calculation of \\sum_{L} c_L (2x)^L / sqrt(L!)\n",
    "    #using Horner's method\n",
    "    w0 = rho[0,-1] + A2*0\n",
    "    L = M-1\n",
    "    \n",
    "    while L > 0:\n",
    "        L -= 1\n",
    "        #here c_L = _wig_laguerre_val(L, B, np.diag(rho, L))\n",
    "        w0 = _wig_laguerre_val(L, B, np.diag(rho, L)) + w0 * A2 * (L+1)**-0.5\n",
    "        \n",
    "    return w0.real * np.exp(-B*0.5) * (g*g*0.5 / pi)\n",
    "\n",
    "\n",
    "def _wig_laguerre_val(L, x, c, tensor=True):\n",
    "    \"\"\"\n",
    "    this is evaluation of polynomial series inspired by hermval from numpy.    \n",
    "    Returns polynomial series\n",
    "    \\sum_n b_n LL_n^L,\n",
    "    where\n",
    "    LL_n^L = (-1)^n sqrt(L!n!/(L+n)!) LaguerreL[n,L,x]    \n",
    "    The evaluation uses Clenshaw recursion\n",
    "    \"\"\"\n",
    "\n",
    "    if len(c) == 1:\n",
    "        y0 = c[0]\n",
    "        y1 = 0\n",
    "    elif len(c) == 2:\n",
    "        y0 = c[0]\n",
    "        y1 = c[1]\n",
    "    else:\n",
    "        k = len(c)\n",
    "        y0 = c[-2]\n",
    "        y1 = c[-1]\n",
    "        for i in range(3, len(c) + 1):\n",
    "            k -= 1\n",
    "            y0,    y1 = c[-i] - y1 * (float((k - 1)*(L + k - 1))/((L+k)*k))**0.5, \\\n",
    "            y0 - y1 * ((L + 2*k -1) - x) * ((L+k)*k)**-0.5\n",
    "            \n",
    "    return y0 - y1 * ((L + 1) - x) * (L + 1)**-0.5"
   ]
  },
  {
   "cell_type": "code",
   "execution_count": 9,
   "metadata": {
    "collapsed": false
   },
   "outputs": [
    {
     "name": "stdout",
     "output_type": "stream",
     "text": [
      "2.67938058273e-12\n",
      "1.83599538991e-12\n",
      "2.21552148199e-12\n",
      "3.02522354444e-12\n",
      "1.55810088134e-12\n"
     ]
    }
   ],
   "source": [
    "N = 20\n",
    "xvec = np.linspace(-10, 10, 128)\n",
    "for i in range(5):\n",
    "    rho = rand_dm(N)\n",
    "\n",
    "    Wfft = wigner(rho, xvec, xvec, method='iterative')#'laguerre')\n",
    "    W = _wigner_clenshaw(rho, xvec, xvec)\n",
    "\n",
    "    Wdiff = abs(W - Wfft)\n",
    "    print(np.sum(abs(Wdiff)))"
   ]
  },
  {
   "cell_type": "code",
   "execution_count": null,
   "metadata": {
    "collapsed": true
   },
   "outputs": [],
   "source": []
  }
 ],
 "metadata": {
  "kernelspec": {
   "display_name": "Python 2",
   "language": "python",
   "name": "python2"
  },
  "language_info": {
   "codemirror_mode": {
    "name": "ipython",
    "version": 2
   },
   "file_extension": ".py",
   "mimetype": "text/x-python",
   "name": "python",
   "nbconvert_exporter": "python",
   "pygments_lexer": "ipython2",
   "version": "2.7.12"
  }
 },
 "nbformat": 4,
 "nbformat_minor": 1
}
